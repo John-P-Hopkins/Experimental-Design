{
 "cells": [
  {
   "cell_type": "markdown",
   "metadata": {},
   "source": [
    "# Experimental Design Project\n",
    "> ## Analysis of US Household Pulse Survey\n",
    "\n",
    "> Research Proposal - https://bit.ly/ExperimentalDesign-ResearchProposal\n",
    "<br>\n",
    "> Slide Deck - https://bit.ly/ExperimentalDesign-SlideDeck"
   ]
  },
  {
   "cell_type": "code",
   "execution_count": 1,
   "metadata": {
    "colab": {
     "base_uri": "https://localhost:8080/",
     "height": 1000
    },
    "executionInfo": {
     "elapsed": 4579,
     "status": "ok",
     "timestamp": 1683748193967,
     "user": {
      "displayName": "John Hopkins",
      "userId": "18405522303519860333"
     },
     "user_tz": 240
    },
    "id": "qzLbPw7k8ZKb",
    "outputId": "ce37ace1-bd2e-410c-98c0-69b959933c6b"
   },
   "outputs": [
    {
     "name": "stdout",
     "output_type": "stream",
     "text": [
      "<class 'pandas.core.frame.DataFrame'>\n",
      "RangeIndex: 10404 entries, 0 to 10403\n",
      "Data columns (total 15 columns):\n",
      " #   Column                  Non-Null Count  Dtype  \n",
      "---  ------                  --------------  -----  \n",
      " 0   Indicator               10404 non-null  object \n",
      " 1   Group                   10404 non-null  object \n",
      " 2   State                   10404 non-null  object \n",
      " 3   Subgroup                10404 non-null  object \n",
      " 4   Phase                   10404 non-null  object \n",
      " 5   Time Period             10404 non-null  int64  \n",
      " 6   Time Period Label       10404 non-null  object \n",
      " 7   Time Period Start Date  10404 non-null  object \n",
      " 8   Time Period End Date    10404 non-null  object \n",
      " 9   Value                   9914 non-null   float64\n",
      " 10  LowCI                   9914 non-null   float64\n",
      " 11  HighCI                  9914 non-null   float64\n",
      " 12  Confidence Interval     9914 non-null   object \n",
      " 13  Quartile Range          6732 non-null   object \n",
      " 14  Suppression Flag        22 non-null     float64\n",
      "dtypes: float64(4), int64(1), object(10)\n",
      "memory usage: 1.2+ MB\n"
     ]
    },
    {
     "data": {
      "text/html": [
       "<div>\n",
       "<style scoped>\n",
       "    .dataframe tbody tr th:only-of-type {\n",
       "        vertical-align: middle;\n",
       "    }\n",
       "\n",
       "    .dataframe tbody tr th {\n",
       "        vertical-align: top;\n",
       "    }\n",
       "\n",
       "    .dataframe thead th {\n",
       "        text-align: right;\n",
       "    }\n",
       "</style>\n",
       "<table border=\"1\" class=\"dataframe\">\n",
       "  <thead>\n",
       "    <tr style=\"text-align: right;\">\n",
       "      <th></th>\n",
       "      <th>Indicator</th>\n",
       "      <th>Group</th>\n",
       "      <th>State</th>\n",
       "      <th>Subgroup</th>\n",
       "      <th>Phase</th>\n",
       "      <th>Time Period</th>\n",
       "      <th>Time Period Label</th>\n",
       "      <th>Time Period Start Date</th>\n",
       "      <th>Time Period End Date</th>\n",
       "      <th>Value</th>\n",
       "      <th>LowCI</th>\n",
       "      <th>HighCI</th>\n",
       "      <th>Confidence Interval</th>\n",
       "      <th>Quartile Range</th>\n",
       "      <th>Suppression Flag</th>\n",
       "    </tr>\n",
       "  </thead>\n",
       "  <tbody>\n",
       "    <tr>\n",
       "      <th>0</th>\n",
       "      <td>Took Prescription Medication for Mental Health...</td>\n",
       "      <td>National Estimate</td>\n",
       "      <td>United States</td>\n",
       "      <td>United States</td>\n",
       "      <td>2</td>\n",
       "      <td>13</td>\n",
       "      <td>Aug 19 - Aug 31, 2020</td>\n",
       "      <td>08/19/2020</td>\n",
       "      <td>08/31/2020</td>\n",
       "      <td>19.4</td>\n",
       "      <td>19.0</td>\n",
       "      <td>19.8</td>\n",
       "      <td>19.0 - 19.8</td>\n",
       "      <td>NaN</td>\n",
       "      <td>NaN</td>\n",
       "    </tr>\n",
       "    <tr>\n",
       "      <th>1</th>\n",
       "      <td>Took Prescription Medication for Mental Health...</td>\n",
       "      <td>By Age</td>\n",
       "      <td>United States</td>\n",
       "      <td>18 - 29 years</td>\n",
       "      <td>2</td>\n",
       "      <td>13</td>\n",
       "      <td>Aug 19 - Aug 31, 2020</td>\n",
       "      <td>08/19/2020</td>\n",
       "      <td>08/31/2020</td>\n",
       "      <td>18.7</td>\n",
       "      <td>17.2</td>\n",
       "      <td>20.3</td>\n",
       "      <td>17.2 - 20.3</td>\n",
       "      <td>NaN</td>\n",
       "      <td>NaN</td>\n",
       "    </tr>\n",
       "    <tr>\n",
       "      <th>2</th>\n",
       "      <td>Took Prescription Medication for Mental Health...</td>\n",
       "      <td>By Age</td>\n",
       "      <td>United States</td>\n",
       "      <td>30 - 39 years</td>\n",
       "      <td>2</td>\n",
       "      <td>13</td>\n",
       "      <td>Aug 19 - Aug 31, 2020</td>\n",
       "      <td>08/19/2020</td>\n",
       "      <td>08/31/2020</td>\n",
       "      <td>18.3</td>\n",
       "      <td>17.3</td>\n",
       "      <td>19.2</td>\n",
       "      <td>17.3 - 19.2</td>\n",
       "      <td>NaN</td>\n",
       "      <td>NaN</td>\n",
       "    </tr>\n",
       "    <tr>\n",
       "      <th>3</th>\n",
       "      <td>Took Prescription Medication for Mental Health...</td>\n",
       "      <td>By Age</td>\n",
       "      <td>United States</td>\n",
       "      <td>40 - 49 years</td>\n",
       "      <td>2</td>\n",
       "      <td>13</td>\n",
       "      <td>Aug 19 - Aug 31, 2020</td>\n",
       "      <td>08/19/2020</td>\n",
       "      <td>08/31/2020</td>\n",
       "      <td>20.4</td>\n",
       "      <td>19.5</td>\n",
       "      <td>21.3</td>\n",
       "      <td>19.5 - 21.3</td>\n",
       "      <td>NaN</td>\n",
       "      <td>NaN</td>\n",
       "    </tr>\n",
       "    <tr>\n",
       "      <th>4</th>\n",
       "      <td>Took Prescription Medication for Mental Health...</td>\n",
       "      <td>By Age</td>\n",
       "      <td>United States</td>\n",
       "      <td>50 - 59 years</td>\n",
       "      <td>2</td>\n",
       "      <td>13</td>\n",
       "      <td>Aug 19 - Aug 31, 2020</td>\n",
       "      <td>08/19/2020</td>\n",
       "      <td>08/31/2020</td>\n",
       "      <td>21.2</td>\n",
       "      <td>20.2</td>\n",
       "      <td>22.2</td>\n",
       "      <td>20.2 - 22.2</td>\n",
       "      <td>NaN</td>\n",
       "      <td>NaN</td>\n",
       "    </tr>\n",
       "  </tbody>\n",
       "</table>\n",
       "</div>"
      ],
      "text/plain": [
       "                                           Indicator              Group  \\\n",
       "0  Took Prescription Medication for Mental Health...  National Estimate   \n",
       "1  Took Prescription Medication for Mental Health...             By Age   \n",
       "2  Took Prescription Medication for Mental Health...             By Age   \n",
       "3  Took Prescription Medication for Mental Health...             By Age   \n",
       "4  Took Prescription Medication for Mental Health...             By Age   \n",
       "\n",
       "           State       Subgroup Phase  Time Period      Time Period Label  \\\n",
       "0  United States  United States     2           13  Aug 19 - Aug 31, 2020   \n",
       "1  United States  18 - 29 years     2           13  Aug 19 - Aug 31, 2020   \n",
       "2  United States  30 - 39 years     2           13  Aug 19 - Aug 31, 2020   \n",
       "3  United States  40 - 49 years     2           13  Aug 19 - Aug 31, 2020   \n",
       "4  United States  50 - 59 years     2           13  Aug 19 - Aug 31, 2020   \n",
       "\n",
       "  Time Period Start Date Time Period End Date  Value  LowCI  HighCI  \\\n",
       "0             08/19/2020           08/31/2020   19.4   19.0    19.8   \n",
       "1             08/19/2020           08/31/2020   18.7   17.2    20.3   \n",
       "2             08/19/2020           08/31/2020   18.3   17.3    19.2   \n",
       "3             08/19/2020           08/31/2020   20.4   19.5    21.3   \n",
       "4             08/19/2020           08/31/2020   21.2   20.2    22.2   \n",
       "\n",
       "  Confidence Interval Quartile Range  Suppression Flag  \n",
       "0         19.0 - 19.8            NaN               NaN  \n",
       "1         17.2 - 20.3            NaN               NaN  \n",
       "2         17.3 - 19.2            NaN               NaN  \n",
       "3         19.5 - 21.3            NaN               NaN  \n",
       "4         20.2 - 22.2            NaN               NaN  "
      ]
     },
     "execution_count": 1,
     "metadata": {},
     "output_type": "execute_result"
    }
   ],
   "source": [
    "import math\n",
    "import pandas as pd\n",
    "import numpy as np\n",
    "from scipy import stats\n",
    "import matplotlib.pyplot as plt\n",
    "\n",
    "mh = pd.read_csv(\"https://data.cdc.gov/api/views/yni7-er2q/rows.csv\")\n",
    "\n",
    "mh.info()\n",
    "\n",
    "mh.head()"
   ]
  },
  {
   "cell_type": "markdown",
   "metadata": {},
   "source": [
    "* The data was split in order to segregate the \"therapy\" data."
   ]
  },
  {
   "cell_type": "code",
   "execution_count": 2,
   "metadata": {
    "colab": {
     "base_uri": "https://localhost:8080/",
     "height": 380
    },
    "executionInfo": {
     "elapsed": 186,
     "status": "ok",
     "timestamp": 1683748198530,
     "user": {
      "displayName": "John Hopkins",
      "userId": "18405522303519860333"
     },
     "user_tz": 240
    },
    "id": "2bwosEnXXKP7",
    "outputId": "b50ac68d-9ade-4122-c711-6bab22a691cf"
   },
   "outputs": [
    {
     "name": "stdout",
     "output_type": "stream",
     "text": [
      "<class 'pandas.core.frame.DataFrame'>\n",
      "Int64Index: 2470 entries, 216 to 10403\n",
      "Data columns (total 3 columns):\n",
      " #   Column     Non-Null Count  Dtype  \n",
      "---  ------     --------------  -----  \n",
      " 0   Indicator  2470 non-null   object \n",
      " 1   State      2470 non-null   object \n",
      " 2   Value      2470 non-null   float64\n",
      "dtypes: float64(1), object(2)\n",
      "memory usage: 77.2+ KB\n"
     ]
    },
    {
     "data": {
      "text/html": [
       "<div>\n",
       "<style scoped>\n",
       "    .dataframe tbody tr th:only-of-type {\n",
       "        vertical-align: middle;\n",
       "    }\n",
       "\n",
       "    .dataframe tbody tr th {\n",
       "        vertical-align: top;\n",
       "    }\n",
       "\n",
       "    .dataframe thead th {\n",
       "        text-align: right;\n",
       "    }\n",
       "</style>\n",
       "<table border=\"1\" class=\"dataframe\">\n",
       "  <thead>\n",
       "    <tr style=\"text-align: right;\">\n",
       "      <th></th>\n",
       "      <th>Indicator</th>\n",
       "      <th>State</th>\n",
       "      <th>Value</th>\n",
       "    </tr>\n",
       "  </thead>\n",
       "  <tbody>\n",
       "    <tr>\n",
       "      <th>216</th>\n",
       "      <td>Needed Counseling or Therapy But Did Not Get I...</td>\n",
       "      <td>United States</td>\n",
       "      <td>9.2</td>\n",
       "    </tr>\n",
       "    <tr>\n",
       "      <th>217</th>\n",
       "      <td>Needed Counseling or Therapy But Did Not Get I...</td>\n",
       "      <td>United States</td>\n",
       "      <td>15.6</td>\n",
       "    </tr>\n",
       "    <tr>\n",
       "      <th>218</th>\n",
       "      <td>Needed Counseling or Therapy But Did Not Get I...</td>\n",
       "      <td>United States</td>\n",
       "      <td>12.9</td>\n",
       "    </tr>\n",
       "    <tr>\n",
       "      <th>219</th>\n",
       "      <td>Needed Counseling or Therapy But Did Not Get I...</td>\n",
       "      <td>United States</td>\n",
       "      <td>10.0</td>\n",
       "    </tr>\n",
       "    <tr>\n",
       "      <th>220</th>\n",
       "      <td>Needed Counseling or Therapy But Did Not Get I...</td>\n",
       "      <td>United States</td>\n",
       "      <td>7.7</td>\n",
       "    </tr>\n",
       "  </tbody>\n",
       "</table>\n",
       "</div>"
      ],
      "text/plain": [
       "                                             Indicator          State  Value\n",
       "216  Needed Counseling or Therapy But Did Not Get I...  United States    9.2\n",
       "217  Needed Counseling or Therapy But Did Not Get I...  United States   15.6\n",
       "218  Needed Counseling or Therapy But Did Not Get I...  United States   12.9\n",
       "219  Needed Counseling or Therapy But Did Not Get I...  United States   10.0\n",
       "220  Needed Counseling or Therapy But Did Not Get I...  United States    7.7"
      ]
     },
     "execution_count": 2,
     "metadata": {},
     "output_type": "execute_result"
    }
   ],
   "source": [
    "mh.drop(mh.columns[[1,3,4,5,6,7,8,10,11,12,13,14]], axis=1, inplace=True)\n",
    "nc = mh[mh['Indicator'] == 'Needed Counseling or Therapy But Did Not Get It, Last 4 Weeks']\n",
    "nc_filter=nc.dropna()\n",
    "nc_filter.info()\n",
    "nc_filter.head()"
   ]
  },
  {
   "cell_type": "markdown",
   "metadata": {},
   "source": [
    "### Analysis of location data"
   ]
  },
  {
   "cell_type": "markdown",
   "metadata": {},
   "source": [
    "* Filtered the data by states FL, AL, and GA to compare Florida with it's bordering states."
   ]
  },
  {
   "cell_type": "code",
   "execution_count": 3,
   "metadata": {
    "colab": {
     "base_uri": "https://localhost:8080/",
     "height": 685
    },
    "executionInfo": {
     "elapsed": 1055,
     "status": "ok",
     "timestamp": 1683748202181,
     "user": {
      "displayName": "John Hopkins",
      "userId": "18405522303519860333"
     },
     "user_tz": 240
    },
    "id": "YMc-XK6ZYw9g",
    "outputId": "3fd4acf6-b035-4d2a-f896-385af6ac0e29"
   },
   "outputs": [],
   "source": [
    "states_filter = ['Florida', 'Alabama', 'Georgia']\n",
    "fl_al_ga = nc[nc['State'].isin(states_filter)]"
   ]
  },
  {
   "cell_type": "markdown",
   "metadata": {},
   "source": [
    "* Due to the limit number of samples a Kruskal Wallis test will be performed."
   ]
  },
  {
   "cell_type": "code",
   "execution_count": 4,
   "metadata": {
    "colab": {
     "base_uri": "https://localhost:8080/"
    },
    "executionInfo": {
     "elapsed": 161,
     "status": "ok",
     "timestamp": 1683748207144,
     "user": {
      "displayName": "John Hopkins",
      "userId": "18405522303519860333"
     },
     "user_tz": 240
    },
    "id": "WJ7qBHjpc-nQ",
    "outputId": "b84abdac-f50b-4151-b93f-4fb2b9fabddf"
   },
   "outputs": [
    {
     "data": {
      "text/plain": [
       "KruskalResult(statistic=array([15.00896928]), pvalue=array([0.00055061]))"
      ]
     },
     "execution_count": 4,
     "metadata": {},
     "output_type": "execute_result"
    }
   ],
   "source": [
    "stats.kruskal(\n",
    "    fl_al_ga.loc[fl_al_ga['State'] == 'Florida', ['Value']],\n",
    "    fl_al_ga.loc[fl_al_ga['State'] == 'Alabama', ['Value']],\n",
    "    fl_al_ga.loc[fl_al_ga['State'] == 'Georgia', ['Value']])"
   ]
  },
  {
   "cell_type": "code",
   "execution_count": 5,
   "metadata": {
    "colab": {
     "base_uri": "https://localhost:8080/"
    },
    "executionInfo": {
     "elapsed": 165,
     "status": "ok",
     "timestamp": 1683748208591,
     "user": {
      "displayName": "John Hopkins",
      "userId": "18405522303519860333"
     },
     "user_tz": 240
    },
    "id": "UGZqjCH5yKaG",
    "outputId": "a28bb769-82d7-4c68-bd18-ed5ee2cd715b"
   },
   "outputs": [
    {
     "data": {
      "text/plain": [
       "F_onewayResult(statistic=array([9.69726396]), pvalue=array([0.00014592]))"
      ]
     },
     "execution_count": 5,
     "metadata": {},
     "output_type": "execute_result"
    }
   ],
   "source": [
    "stats.f_oneway(\n",
    "    fl_al_ga.loc[fl_al_ga['State'] == 'Florida', ['Value']],\n",
    "    fl_al_ga.loc[fl_al_ga['State'] == 'Alabama', ['Value']],\n",
    "    fl_al_ga.loc[fl_al_ga['State'] == 'Georgia', ['Value']])"
   ]
  },
  {
   "cell_type": "code",
   "execution_count": 6,
   "metadata": {
    "colab": {
     "base_uri": "https://localhost:8080/",
     "height": 122
    },
    "executionInfo": {
     "elapsed": 403,
     "status": "ok",
     "timestamp": 1683748210872,
     "user": {
      "displayName": "John Hopkins",
      "userId": "18405522303519860333"
     },
     "user_tz": 240
    },
    "id": "JgfTq1oGyv6_",
    "outputId": "5d53287e-65c6-4c20-8460-f13b6e885246"
   },
   "outputs": [
    {
     "data": {
      "text/html": [
       "<table class=\"simpletable\">\n",
       "<caption>Multiple Comparison of Means - Tukey HSD, FWER=0.05</caption>\n",
       "<tr>\n",
       "  <th>group1</th>  <th>group2</th>  <th>meandiff</th>  <th>p-adj</th>  <th>lower</th>   <th>upper</th>  <th>reject</th>\n",
       "</tr>\n",
       "<tr>\n",
       "  <td>Alabama</td> <td>Florida</td>  <td>-1.1727</td> <td>0.0333</td>  <td>-2.27</td>  <td>-0.0755</td>  <td>True</td> \n",
       "</tr>\n",
       "<tr>\n",
       "  <td>Alabama</td> <td>Georgia</td>  <td>0.8485</td>  <td>0.1619</td> <td>-0.2488</td> <td>1.9458</td>   <td>False</td>\n",
       "</tr>\n",
       "<tr>\n",
       "  <td>Florida</td> <td>Georgia</td>  <td>2.0212</td>  <td>0.0001</td> <td>0.9239</td>  <td>3.1185</td>   <td>True</td> \n",
       "</tr>\n",
       "</table>"
      ],
      "text/latex": [
       "\\begin{center}\n",
       "\\begin{tabular}{ccccccc}\n",
       "\\toprule\n",
       "\\textbf{group1} & \\textbf{group2} & \\textbf{meandiff} & \\textbf{p-adj} & \\textbf{lower} & \\textbf{upper} & \\textbf{reject}  \\\\\n",
       "\\midrule\n",
       "    Alabama     &     Florida     &      -1.1727      &     0.0333     &     -2.27      &    -0.0755     &       True       \\\\\n",
       "    Alabama     &     Georgia     &       0.8485      &     0.1619     &    -0.2488     &     1.9458     &      False       \\\\\n",
       "    Florida     &     Georgia     &       2.0212      &     0.0001     &     0.9239     &     3.1185     &       True       \\\\\n",
       "\\bottomrule\n",
       "\\end{tabular}\n",
       "%\\caption{Multiple Comparison of Means - Tukey HSD, FWER=0.05}\n",
       "\\end{center}"
      ],
      "text/plain": [
       "<class 'statsmodels.iolib.table.SimpleTable'>"
      ]
     },
     "execution_count": 6,
     "metadata": {},
     "output_type": "execute_result"
    }
   ],
   "source": [
    "from statsmodels.stats.multicomp import pairwise_tukeyhsd\n",
    "\n",
    "tukey = pairwise_tukeyhsd(endog = fl_al_ga['Value'],\n",
    "                          groups = fl_al_ga['State'],\n",
    "                          alpha=0.05) \n",
    "tukey.summary()"
   ]
  },
  {
   "cell_type": "code",
   "execution_count": 7,
   "metadata": {
    "colab": {
     "base_uri": "https://localhost:8080/",
     "height": 495
    },
    "executionInfo": {
     "elapsed": 602,
     "status": "ok",
     "timestamp": 1683748214479,
     "user": {
      "displayName": "John Hopkins",
      "userId": "18405522303519860333"
     },
     "user_tz": 240
    },
    "id": "2MXcI74oeoZS",
    "outputId": "3ee825ff-82e3-46bb-a22e-28e11a9c138f"
   },
   "outputs": [
    {
     "data": {
      "text/plain": [
       "<Axes: title={'center': 'Value'}, xlabel='State'>"
      ]
     },
     "execution_count": 7,
     "metadata": {},
     "output_type": "execute_result"
    },
    {
     "data": {
      "image/png": "[encoded data removed]",
      "text/plain": [
       "<Figure size 640x480 with 1 Axes>"
      ]
     },
     "metadata": {},
     "output_type": "display_data"
    }
   ],
   "source": [
    "fl_al_ga.boxplot('Value', by='State')"
   ]
  },
  {
   "cell_type": "markdown",
   "metadata": {},
   "source": [
    "* Based on the H value (Kruskl), F value (ANOVA) and p-values <0.05 the null is rejected and one of the states differs meanifully from the others.\n",
    "<br>\n",
    "\n",
    "* The box-plot above gives a visual representation.\n",
    "<br>\n",
    "* People in Florida felt like they needed counseling or therapy but did not get it at a lower percentage than the bordering states.\n",
    "<br>\n",
    "* There may be bias in this data as florida has a larger elderly and immigrant population. Those are two populations that may under report the need/desire for treatment due to societal/cultural norms and/or may not have the resources to respond to an online survey or the desire to participate in a governmental survey."
   ]
  },
  {
   "cell_type": "markdown",
   "metadata": {},
   "source": [
    "### Analysis of sexes data"
   ]
  },
  {
   "cell_type": "code",
   "execution_count": 8,
   "metadata": {
    "colab": {
     "base_uri": "https://localhost:8080/"
    },
    "executionInfo": {
     "elapsed": 868,
     "status": "ok",
     "timestamp": 1683748219876,
     "user": {
      "displayName": "John Hopkins",
      "userId": "18405522303519860333"
     },
     "user_tz": 240
    },
    "id": "uP8KQhKql2k7",
    "outputId": "146c3940-165c-4460-cd81-c94c62865433"
   },
   "outputs": [],
   "source": [
    "del mh\n",
    "\n",
    "mh = pd.read_csv(\"https://data.cdc.gov/api/views/yni7-er2q/rows.csv\")\n",
    "\n",
    "mh.drop(mh.columns[[1,2,4,5,6,7,8,10,11,12,13,14]], axis=1, inplace=True)\n",
    "\n",
    "nc = mh[mh['Indicator'] == 'Needed Counseling or Therapy But Did Not Get It, Last 4 Weeks']\n",
    "nc_filter=nc.dropna()"
   ]
  },
  {
   "cell_type": "code",
   "execution_count": 9,
   "metadata": {
    "colab": {
     "base_uri": "https://localhost:8080/",
     "height": 380
    },
    "executionInfo": {
     "elapsed": 167,
     "status": "ok",
     "timestamp": 1683748223925,
     "user": {
      "displayName": "John Hopkins",
      "userId": "18405522303519860333"
     },
     "user_tz": 240
    },
    "id": "un_pR4WjJj59",
    "outputId": "b71ab491-df1f-43bd-b3cc-c19b81969d30"
   },
   "outputs": [
    {
     "name": "stdout",
     "output_type": "stream",
     "text": [
      "<class 'pandas.core.frame.DataFrame'>\n",
      "Int64Index: 66 entries, 224 to 10333\n",
      "Data columns (total 3 columns):\n",
      " #   Column     Non-Null Count  Dtype  \n",
      "---  ------     --------------  -----  \n",
      " 0   Indicator  66 non-null     object \n",
      " 1   Subgroup   66 non-null     object \n",
      " 2   Value      66 non-null     float64\n",
      "dtypes: float64(1), object(2)\n",
      "memory usage: 2.1+ KB\n"
     ]
    },
    {
     "data": {
      "text/html": [
       "<div>\n",
       "<style scoped>\n",
       "    .dataframe tbody tr th:only-of-type {\n",
       "        vertical-align: middle;\n",
       "    }\n",
       "\n",
       "    .dataframe tbody tr th {\n",
       "        vertical-align: top;\n",
       "    }\n",
       "\n",
       "    .dataframe thead th {\n",
       "        text-align: right;\n",
       "    }\n",
       "</style>\n",
       "<table border=\"1\" class=\"dataframe\">\n",
       "  <thead>\n",
       "    <tr style=\"text-align: right;\">\n",
       "      <th></th>\n",
       "      <th>Indicator</th>\n",
       "      <th>Subgroup</th>\n",
       "      <th>Value</th>\n",
       "    </tr>\n",
       "  </thead>\n",
       "  <tbody>\n",
       "    <tr>\n",
       "      <th>224</th>\n",
       "      <td>Needed Counseling or Therapy But Did Not Get I...</td>\n",
       "      <td>Male</td>\n",
       "      <td>6.8</td>\n",
       "    </tr>\n",
       "    <tr>\n",
       "      <th>225</th>\n",
       "      <td>Needed Counseling or Therapy But Did Not Get I...</td>\n",
       "      <td>Female</td>\n",
       "      <td>11.4</td>\n",
       "    </tr>\n",
       "    <tr>\n",
       "      <th>512</th>\n",
       "      <td>Needed Counseling or Therapy But Did Not Get I...</td>\n",
       "      <td>Male</td>\n",
       "      <td>6.9</td>\n",
       "    </tr>\n",
       "    <tr>\n",
       "      <th>513</th>\n",
       "      <td>Needed Counseling or Therapy But Did Not Get I...</td>\n",
       "      <td>Female</td>\n",
       "      <td>12.3</td>\n",
       "    </tr>\n",
       "    <tr>\n",
       "      <th>800</th>\n",
       "      <td>Needed Counseling or Therapy But Did Not Get I...</td>\n",
       "      <td>Male</td>\n",
       "      <td>7.7</td>\n",
       "    </tr>\n",
       "  </tbody>\n",
       "</table>\n",
       "</div>"
      ],
      "text/plain": [
       "                                             Indicator Subgroup  Value\n",
       "224  Needed Counseling or Therapy But Did Not Get I...     Male    6.8\n",
       "225  Needed Counseling or Therapy But Did Not Get I...   Female   11.4\n",
       "512  Needed Counseling or Therapy But Did Not Get I...     Male    6.9\n",
       "513  Needed Counseling or Therapy But Did Not Get I...   Female   12.3\n",
       "800  Needed Counseling or Therapy But Did Not Get I...     Male    7.7"
      ]
     },
     "execution_count": 9,
     "metadata": {},
     "output_type": "execute_result"
    }
   ],
   "source": [
    "substring_mask = nc['Subgroup'].str.contains('Male|Female')\n",
    "sx_filter = nc.loc[substring_mask]\n",
    "\n",
    "sx_filter_df=sx_filter.dropna()\n",
    "sx_filter_df.info()\n",
    "sx_filter_df.head()"
   ]
  },
  {
   "cell_type": "code",
   "execution_count": 10,
   "metadata": {
    "colab": {
     "base_uri": "https://localhost:8080/"
    },
    "executionInfo": {
     "elapsed": 176,
     "status": "ok",
     "timestamp": 1683748226559,
     "user": {
      "displayName": "John Hopkins",
      "userId": "18405522303519860333"
     },
     "user_tz": 240
    },
    "id": "bWfCqCEmQFQl",
    "outputId": "e64064fb-f96a-43e0-8db7-cebdb5753864"
   },
   "outputs": [],
   "source": [
    "sx_filter_m = sx_filter_df[(sx_filter_df['Subgroup'] == 'Male')]\n",
    "sx_filter_f = sx_filter_df[(sx_filter_df['Subgroup'] == 'Female')]"
   ]
  },
  {
   "cell_type": "code",
   "execution_count": 11,
   "metadata": {
    "colab": {
     "base_uri": "https://localhost:8080/",
     "height": 485
    },
    "executionInfo": {
     "elapsed": 401,
     "status": "ok",
     "timestamp": 1683748229657,
     "user": {
      "displayName": "John Hopkins",
      "userId": "18405522303519860333"
     },
     "user_tz": 240
    },
    "id": "3EpFO2kCcYfD",
    "outputId": "2290f8b8-de56-4e68-c0c3-128efe3bccbf"
   },
   "outputs": [
    {
     "data": {
      "image/png": "[encoded data removed]",
      "text/plain": [
       "<Figure size 640x480 with 1 Axes>"
      ]
     },
     "metadata": {},
     "output_type": "display_data"
    },
    {
     "name": "stdout",
     "output_type": "stream",
     "text": [
      "DescribeResult(nobs=33, minmax=(6.8, 9.5), mean=8.303030303030303, variance=0.6846780303030302, skewness=-0.3038340936974422, kurtosis=-1.045439008904589)\n",
      "DescribeResult(nobs=33, minmax=(6.8, 9.5), mean=8.303030303030303, variance=0.6846780303030302, skewness=-0.3038340936974422, kurtosis=-1.045439008904589)\n"
     ]
    }
   ],
   "source": [
    "plt.hist(sx_filter_m['Value'], alpha = .5, label = \"Male\")\n",
    "plt.hist(sx_filter_f['Value'], alpha = .5, label = \"Female\")\n",
    "plt.legend(loc='upper left')\n",
    "plt.show()\n",
    "\n",
    "print(stats.describe(sx_filter_m['Value']))\n",
    "print(stats.describe(sx_filter_m['Value']))"
   ]
  },
  {
   "cell_type": "code",
   "execution_count": 12,
   "metadata": {
    "colab": {
     "base_uri": "https://localhost:8080/"
    },
    "executionInfo": {
     "elapsed": 192,
     "status": "ok",
     "timestamp": 1683748237265,
     "user": {
      "displayName": "John Hopkins",
      "userId": "18405522303519860333"
     },
     "user_tz": 240
    },
    "id": "Rrpkgj3Sc3gW",
    "outputId": "b2486025-8f92-4e0b-d85a-c4a1406e0978"
   },
   "outputs": [
    {
     "data": {
      "text/plain": [
       "TtestResult(statistic=-24.125286623278345, pvalue=7.740546597565963e-34, df=64.0)"
      ]
     },
     "execution_count": 12,
     "metadata": {},
     "output_type": "execute_result"
    }
   ],
   "source": [
    "stats.ttest_ind(sx_filter_m['Value'], sx_filter_f['Value'])"
   ]
  },
  {
   "cell_type": "code",
   "execution_count": 13,
   "metadata": {
    "colab": {
     "base_uri": "https://localhost:8080/",
     "height": 495
    },
    "executionInfo": {
     "elapsed": 378,
     "status": "ok",
     "timestamp": 1683748241982,
     "user": {
      "displayName": "John Hopkins",
      "userId": "18405522303519860333"
     },
     "user_tz": 240
    },
    "id": "b77w3ZBkepxi",
    "outputId": "5ca1c76d-fce9-4286-acf6-6d3acd7aad97"
   },
   "outputs": [
    {
     "data": {
      "text/plain": [
       "<Axes: title={'center': 'Value'}, xlabel='Subgroup'>"
      ]
     },
     "execution_count": 13,
     "metadata": {},
     "output_type": "execute_result"
    },
    {
     "data": {
      "image/png": "[encoded data removed]",
      "text/plain": [
       "<Figure size 640x480 with 1 Axes>"
      ]
     },
     "metadata": {},
     "output_type": "display_data"
    }
   ],
   "source": [
    "sx_filter_df.boxplot('Value', by='Subgroup')"
   ]
  },
  {
   "cell_type": "markdown",
   "metadata": {},
   "source": [
    "* The null was rejected and there's a significant difference in the percentage of women to men who felt like they needed counseling or therapy but did not get it.\n",
    "<br>\n",
    "* Again there are many possible biases that could occur with this result; such as cultural, gender and ethinic norms."
   ]
  },
  {
   "cell_type": "markdown",
   "metadata": {
    "id": "vQWzAbQ6gdMS"
   },
   "source": [
    "### Analysis of age data"
   ]
  },
  {
   "cell_type": "code",
   "execution_count": 14,
   "metadata": {
    "colab": {
     "base_uri": "https://localhost:8080/"
    },
    "executionInfo": {
     "elapsed": 890,
     "status": "ok",
     "timestamp": 1683468360211,
     "user": {
      "displayName": "John Hopkins",
      "userId": "18405522303519860333"
     },
     "user_tz": 240
    },
    "id": "ucDkFCXWiC1l",
    "outputId": "b1bc6570-8ca6-4238-dd29-f74beed38531"
   },
   "outputs": [],
   "source": [
    "del mh\n",
    "\n",
    "mh = pd.read_csv(\"https://data.cdc.gov/api/views/yni7-er2q/rows.csv\")\n",
    "\n",
    "mh.drop(mh.columns[[1,2,4,5,6,7,8,10,11,12,13,14]], axis=1, inplace=True)\n",
    "\n",
    "nc = mh[mh['Indicator'] == 'Needed Counseling or Therapy But Did Not Get It, Last 4 Weeks']\n",
    "nc_filter=nc.dropna()"
   ]
  },
  {
   "cell_type": "code",
   "execution_count": 15,
   "metadata": {
    "colab": {
     "base_uri": "https://localhost:8080/",
     "height": 442
    },
    "executionInfo": {
     "elapsed": 198,
     "status": "ok",
     "timestamp": 1683470029261,
     "user": {
      "displayName": "John Hopkins",
      "userId": "18405522303519860333"
     },
     "user_tz": 240
    },
    "id": "JdHUYlLiiKrQ",
    "outputId": "3fe11e4c-365a-4f00-d1f5-d72f16e8478e"
   },
   "outputs": [
    {
     "name": "stdout",
     "output_type": "stream",
     "text": [
      "<class 'pandas.core.frame.DataFrame'>\n",
      "Int64Index: 266 entries, 217 to 10331\n",
      "Data columns (total 3 columns):\n",
      " #   Column     Non-Null Count  Dtype  \n",
      "---  ------     --------------  -----  \n",
      " 0   Indicator  266 non-null    object \n",
      " 1   Subgroup   266 non-null    object \n",
      " 2   Value      224 non-null    float64\n",
      "dtypes: float64(1), object(2)\n",
      "memory usage: 8.3+ KB\n"
     ]
    },
    {
     "data": {
      "text/html": [
       "<div>\n",
       "<style scoped>\n",
       "    .dataframe tbody tr th:only-of-type {\n",
       "        vertical-align: middle;\n",
       "    }\n",
       "\n",
       "    .dataframe tbody tr th {\n",
       "        vertical-align: top;\n",
       "    }\n",
       "\n",
       "    .dataframe thead th {\n",
       "        text-align: right;\n",
       "    }\n",
       "</style>\n",
       "<table border=\"1\" class=\"dataframe\">\n",
       "  <thead>\n",
       "    <tr style=\"text-align: right;\">\n",
       "      <th></th>\n",
       "      <th>Indicator</th>\n",
       "      <th>Subgroup</th>\n",
       "      <th>Value</th>\n",
       "    </tr>\n",
       "  </thead>\n",
       "  <tbody>\n",
       "    <tr>\n",
       "      <th>217</th>\n",
       "      <td>Needed Counseling or Therapy But Did Not Get I...</td>\n",
       "      <td>18 - 29 years</td>\n",
       "      <td>15.6</td>\n",
       "    </tr>\n",
       "    <tr>\n",
       "      <th>218</th>\n",
       "      <td>Needed Counseling or Therapy But Did Not Get I...</td>\n",
       "      <td>30 - 39 years</td>\n",
       "      <td>12.9</td>\n",
       "    </tr>\n",
       "    <tr>\n",
       "      <th>219</th>\n",
       "      <td>Needed Counseling or Therapy But Did Not Get I...</td>\n",
       "      <td>40 - 49 years</td>\n",
       "      <td>10.0</td>\n",
       "    </tr>\n",
       "    <tr>\n",
       "      <th>220</th>\n",
       "      <td>Needed Counseling or Therapy But Did Not Get I...</td>\n",
       "      <td>50 - 59 years</td>\n",
       "      <td>7.7</td>\n",
       "    </tr>\n",
       "    <tr>\n",
       "      <th>221</th>\n",
       "      <td>Needed Counseling or Therapy But Did Not Get I...</td>\n",
       "      <td>60 - 69 years</td>\n",
       "      <td>5.3</td>\n",
       "    </tr>\n",
       "    <tr>\n",
       "      <th>222</th>\n",
       "      <td>Needed Counseling or Therapy But Did Not Get I...</td>\n",
       "      <td>70 - 79 years</td>\n",
       "      <td>2.9</td>\n",
       "    </tr>\n",
       "    <tr>\n",
       "      <th>223</th>\n",
       "      <td>Needed Counseling or Therapy But Did Not Get I...</td>\n",
       "      <td>80 years and above</td>\n",
       "      <td>1.4</td>\n",
       "    </tr>\n",
       "  </tbody>\n",
       "</table>\n",
       "</div>"
      ],
      "text/plain": [
       "                                             Indicator            Subgroup  \\\n",
       "217  Needed Counseling or Therapy But Did Not Get I...       18 - 29 years   \n",
       "218  Needed Counseling or Therapy But Did Not Get I...       30 - 39 years   \n",
       "219  Needed Counseling or Therapy But Did Not Get I...       40 - 49 years   \n",
       "220  Needed Counseling or Therapy But Did Not Get I...       50 - 59 years   \n",
       "221  Needed Counseling or Therapy But Did Not Get I...       60 - 69 years   \n",
       "222  Needed Counseling or Therapy But Did Not Get I...       70 - 79 years   \n",
       "223  Needed Counseling or Therapy But Did Not Get I...  80 years and above   \n",
       "\n",
       "     Value  \n",
       "217   15.6  \n",
       "218   12.9  \n",
       "219   10.0  \n",
       "220    7.7  \n",
       "221    5.3  \n",
       "222    2.9  \n",
       "223    1.4  "
      ]
     },
     "execution_count": 15,
     "metadata": {},
     "output_type": "execute_result"
    }
   ],
   "source": [
    "substring_mask = nc['Subgroup'].str.contains('18 - 29 years|30 - 39 years|40 - 49 years|50 - 59 years|60 - 69 years|70 - 79 years|80 years and above')\n",
    "age_filter = nc.loc[substring_mask]\n",
    "\n",
    "age_filter.info()\n",
    "age_filter.head(7)"
   ]
  },
  {
   "cell_type": "code",
   "execution_count": 16,
   "metadata": {
    "colab": {
     "base_uri": "https://localhost:8080/"
    },
    "executionInfo": {
     "elapsed": 173,
     "status": "ok",
     "timestamp": 1683468819426,
     "user": {
      "displayName": "John Hopkins",
      "userId": "18405522303519860333"
     },
     "user_tz": 240
    },
    "id": "hNuUqw4RjxDB",
    "outputId": "a93ebf4b-3c7a-4ee4-ffb4-3016efd68f6a"
   },
   "outputs": [],
   "source": [
    "age_filter_df=age_filter.dropna()"
   ]
  },
  {
   "cell_type": "code",
   "execution_count": 17,
   "metadata": {
    "colab": {
     "base_uri": "https://localhost:8080/",
     "height": 487
    },
    "executionInfo": {
     "elapsed": 1882,
     "status": "ok",
     "timestamp": 1683471541910,
     "user": {
      "displayName": "John Hopkins",
      "userId": "18405522303519860333"
     },
     "user_tz": 240
    },
    "id": "zs6kf2pbpceM",
    "outputId": "ffc29222-451e-4c5f-f305-5c8dc4b7b4e1"
   },
   "outputs": [
    {
     "data": {
      "image/png": "[encoded data removed]",
      "text/plain": [
       "<Figure size 640x480 with 9 Axes>"
      ]
     },
     "metadata": {},
     "output_type": "display_data"
    }
   ],
   "source": [
    "age_filter_df['Subgroup'].unique()\n",
    "age_filter_df['Value'].hist(by = age_filter_df['Subgroup'])\n",
    "plt.tight_layout()\n",
    "plt.show()"
   ]
  },
  {
   "cell_type": "code",
   "execution_count": 18,
   "metadata": {
    "colab": {
     "base_uri": "https://localhost:8080/",
     "height": 616
    },
    "executionInfo": {
     "elapsed": 602,
     "status": "ok",
     "timestamp": 1683471706928,
     "user": {
      "displayName": "John Hopkins",
      "userId": "18405522303519860333"
     },
     "user_tz": 240
    },
    "id": "-x1iDQHSrrRN",
    "outputId": "f5bbb0a3-2489-4761-c128-ffa05b737a1b"
   },
   "outputs": [
    {
     "data": {
      "image/png": "[encoded data removed]",
      "text/plain": [
       "<Figure size 640x480 with 1 Axes>"
      ]
     },
     "metadata": {},
     "output_type": "display_data"
    }
   ],
   "source": [
    "age_filter_df.boxplot('Value', by='Subgroup')\n",
    "plt.tight_layout()\n",
    "plt.xticks(rotation=90)\n",
    "plt.show()"
   ]
  },
  {
   "cell_type": "code",
   "execution_count": 19,
   "metadata": {
    "colab": {
     "base_uri": "https://localhost:8080/"
    },
    "executionInfo": {
     "elapsed": 356,
     "status": "ok",
     "timestamp": 1683472471506,
     "user": {
      "displayName": "John Hopkins",
      "userId": "18405522303519860333"
     },
     "user_tz": 240
    },
    "id": "_utcoJe-v-Lo",
    "outputId": "81c4437f-45ac-4322-c5ce-0a7e0a1958a5"
   },
   "outputs": [
    {
     "data": {
      "text/plain": [
       "KruskalResult(statistic=array([212.81528071]), pvalue=array([3.53856323e-43]))"
      ]
     },
     "execution_count": 19,
     "metadata": {},
     "output_type": "execute_result"
    }
   ],
   "source": [
    "stats.kruskal(\n",
    "    age_filter_df.loc[age_filter_df['Subgroup'] == '18 - 29 years', ['Value']],\n",
    "    age_filter_df.loc[age_filter_df['Subgroup'] == '30 - 39 years', ['Value']],\n",
    "    age_filter_df.loc[age_filter_df['Subgroup'] == '40 - 49 years', ['Value']],\n",
    "    age_filter_df.loc[age_filter_df['Subgroup'] == '50 - 59 years', ['Value']],\n",
    "    age_filter_df.loc[age_filter_df['Subgroup'] == '60 - 69 years', ['Value']],\n",
    "    age_filter_df.loc[age_filter_df['Subgroup'] == '70 - 79 years', ['Value']],\n",
    "    age_filter_df.loc[age_filter_df['Subgroup'] == '80 years and above', ['Value']]\n",
    ")"
   ]
  },
  {
   "cell_type": "markdown",
   "metadata": {},
   "source": [
    "* The null is rejected and there's a significant difference among the age groups.\n",
    "<br>\n",
    "* Again it can be said that biases may have occurred in the data."
   ]
  }
 ],
 "metadata": {
  "colab": {
   "authorship_tag": "ABX9TyOE1Nysln6RdBm7r+61j8G3",
   "provenance": []
  },
  "kernelspec": {
   "display_name": "cluster",
   "language": "python",
   "name": "cluster"
  },
  "language_info": {
   "codemirror_mode": {
    "name": "ipython",
    "version": 3
   },
   "file_extension": ".py",
   "mimetype": "text/x-python",
   "name": "python",
   "nbconvert_exporter": "python",
   "pygments_lexer": "ipython3",
   "version": "3.11.4"
  },
  "toc": {
   "base_numbering": 1,
   "nav_menu": {},
   "number_sections": false,
   "sideBar": false,
   "skip_h1_title": false,
   "title_cell": "Table of Contents",
   "title_sidebar": "Contents",
   "toc_cell": false,
   "toc_position": {},
   "toc_section_display": false,
   "toc_window_display": false
  }
 },
 "nbformat": 4,
 "nbformat_minor": 1
}
